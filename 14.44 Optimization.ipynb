{
 "cells": [
  {
   "cell_type": "code",
   "execution_count": 1,
   "metadata": {},
   "outputs": [
    {
     "name": "stderr",
     "output_type": "stream",
     "text": [
      "WARNING: Method definition ==(Base.Nullable{S}, Base.Nullable{T}) in module Base at nullable.jl:238 overwritten in module NullableArrays at /home/jrun/.julia/v0.6/NullableArrays/src/operators.jl:99.\n"
     ]
    }
   ],
   "source": [
    "using CSV, JuMP, Ipopt, DataFrames"
   ]
  },
  {
   "cell_type": "code",
   "execution_count": 2,
   "metadata": {},
   "outputs": [
    {
     "data": {
      "text/html": [
       "<table class=\"data-frame\"><thead><tr><th></th><th>country</th><th>reserves</th><th>capacity</th><th>marginal_cost</th></tr></thead><tbody><tr><th>1</th><td>Saudi Arabia</td><td>108000</td><td>12000</td><td>9</td></tr><tr><th>2</th><td>Iran</td><td>41400</td><td>4600</td><td>10</td></tr><tr><th>3</th><td>Iraq</td><td>33300</td><td>3700</td><td>16</td></tr><tr><th>4</th><td>Kuwait</td><td>29700</td><td>3300</td><td>13</td></tr><tr><th>5</th><td>UAE</td><td>27000</td><td>3000</td><td>5</td></tr><tr><th>6</th><td>Venezuela</td><td>39600</td><td>4400</td><td>20</td></tr><tr><th>7</th><td>Nigeria</td><td>24300</td><td>2700</td><td>7</td></tr></tbody></table>"
      ],
      "text/plain": [
       "7×4 DataFrames.DataFrame\n",
       "│ Row │ country        │ reserves │ capacity │ marginal_cost │\n",
       "├─────┼────────────────┼──────────┼──────────┼───────────────┤\n",
       "│ 1   │ \"Saudi Arabia\" │ 108000   │ 12000    │ 9             │\n",
       "│ 2   │ \"Iran\"         │ 41400    │ 4600     │ 10            │\n",
       "│ 3   │ \"Iraq\"         │ 33300    │ 3700     │ 16            │\n",
       "│ 4   │ \"Kuwait\"       │ 29700    │ 3300     │ 13            │\n",
       "│ 5   │ \"UAE\"          │ 27000    │ 3000     │ 5             │\n",
       "│ 6   │ \"Venezuela\"    │ 39600    │ 4400     │ 20            │\n",
       "│ 7   │ \"Nigeria\"      │ 24300    │ 2700     │ 7             │"
      ]
     },
     "execution_count": 2,
     "metadata": {},
     "output_type": "execute_result"
    }
   ],
   "source": [
    "D_params = [\n",
    "    -0.0039842 199.1828;\n",
    "    -0.0037 214.15\n",
    "];\n",
    "df2 = CSV.read(\"initial_production.csv\", nullable=false)\n",
    "df = CSV.read(\"supply.csv\", nullable=false)\n",
    "nFirms, _ = size(df)\n",
    "nPeriods = 10\n",
    "df"
   ]
  },
  {
   "cell_type": "code",
   "execution_count": 3,
   "metadata": {},
   "outputs": [
    {
     "name": "stdout",
     "output_type": "stream",
     "text": [
      "\n",
      "******************************************************************************\n",
      "This program contains Ipopt, a library for large-scale nonlinear optimization.\n",
      " Ipopt is released as open source code under the Eclipse Public License (EPL).\n",
      "         For more information visit http://projects.coin-or.org/Ipopt\n",
      "******************************************************************************\n",
      "\n",
      "This is Ipopt version 3.12.1, running with linear solver mumps.\n",
      "NOTE: Other linear solvers might be more efficient (see Ipopt documentation).\n",
      "\n",
      "Number of nonzeros in equality constraint Jacobian...:      182\n",
      "Number of nonzeros in inequality constraint Jacobian.:      140\n",
      "Number of nonzeros in Lagrangian Hessian.............:      490\n",
      "\n",
      "Total number of variables............................:       74\n",
      "                     variables with only lower bounds:       70\n",
      "                variables with lower and upper bounds:        3\n",
      "                     variables with only upper bounds:        0\n",
      "Total number of equality constraints.................:       71\n",
      "Total number of inequality constraints...............:       77\n",
      "        inequality constraints with only lower bounds:        0\n",
      "   inequality constraints with lower and upper bounds:        0\n",
      "        inequality constraints with only upper bounds:       77\n",
      "\n",
      "iter    objective    inf_pr   inf_du lg(mu)  ||d||  lg(rg) alpha_du alpha_pr  ls\n",
      "   0 -1.3932338e+02 1.20e+04 1.01e+02  -1.0 0.00e+00    -  0.00e+00 0.00e+00   0\n",
      "   1 -5.9016383e+06 1.20e+02 1.19e+06  -1.0 2.88e+04    -  8.25e-07 9.90e-01f  1\n",
      "   2 -6.1760576e+06 1.20e+00 1.19e+04  -1.0 9.90e+02    -  1.17e-02 9.90e-01f  1\n",
      "   3 -1.7707027e+07 1.19e-02 2.61e+02  -1.0 3.92e+04    -  1.51e-02 9.90e-01f  1\n",
      "   4 -1.8226782e+07 1.25e-12 1.33e+01  -1.0 8.61e+03    -  6.42e-01 1.00e+00f  1\n",
      "   5 -1.8227240e+07 2.98e-13 5.16e+01  -1.0 2.83e+02    -  9.86e-01 1.00e+00f  1\n",
      "   6 -1.8227240e+07 1.19e-12 4.91e-01  -1.0 6.14e+00    -  9.90e-01 1.00e+00f  1\n",
      "   7 -1.8227240e+07 1.48e-12 1.00e-06  -1.0 3.14e-03    -  1.00e+00 1.00e+00h  1\n",
      "   8 -1.8227240e+07 1.25e-12 2.83e-08  -2.5 1.48e-02    -  1.00e+00 1.00e+00h  1\n",
      "   9 -1.8227240e+07 9.09e-13 1.50e-09  -3.8 4.08e-04    -  1.00e+00 1.00e+00h  1\n",
      "iter    objective    inf_pr   inf_du lg(mu)  ||d||  lg(rg) alpha_du alpha_pr  ls\n",
      "  10 -1.8227240e+07 9.09e-13 1.91e-11  -5.7 2.26e-05    -  1.00e+00 1.00e+00h  1\n",
      "  11 -1.8227240e+07 7.96e-13 1.00e-11  -8.6 2.80e-07    -  1.00e+00 1.00e+00h  1\n",
      "\n",
      "Number of Iterations....: 11\n",
      "\n",
      "                                   (scaled)                 (unscaled)\n",
      "Objective...............:  -7.0250593396243704e+06   -1.8227239782891702e+07\n",
      "Dual infeasibility......:   1.0004441719502211e-11    2.5957554135775113e-11\n",
      "Constraint violation....:   1.2290468942877409e-14    7.9580786405131221e-13\n",
      "Complementarity.........:   2.5059035863814296e-09    6.5018248720194955e-09\n",
      "Overall NLP error.......:   2.5059035863814296e-09    6.5018248720194955e-09\n",
      "\n",
      "\n",
      "Number of objective function evaluations             = 12\n",
      "Number of objective gradient evaluations             = 12\n",
      "Number of equality constraint evaluations            = 12\n",
      "Number of inequality constraint evaluations          = 12\n",
      "Number of equality constraint Jacobian evaluations   = 12\n",
      "Number of inequality constraint Jacobian evaluations = 12\n",
      "Number of Lagrangian Hessian evaluations             = 11\n",
      "Total CPU secs in IPOPT (w/o function evaluations)   =      0.180\n",
      "Total CPU secs in NLP function evaluations           =      0.160\n",
      "\n",
      "EXIT: Optimal Solution Found.\n"
     ]
    },
    {
     "data": {
      "text/plain": [
       ":Optimal"
      ]
     },
     "execution_count": 3,
     "metadata": {},
     "output_type": "execute_result"
    }
   ],
   "source": [
    "m = Model(solver = IpoptSolver())\n",
    "\n",
    "@variable(m, q[1:nFirms, 1:nPeriods] >= 0)\n",
    "\n",
    "@constraint(m, [sum(q[i, :]) for i = 1:nFirms] .<= df[:, 2])\n",
    "@constraint(m, q[:, i=1:nPeriods] .<= df[:, 3])\n",
    "\n",
    "totalQ = [sum(q[:, i]) for i = 1:nPeriods]\n",
    "\n",
    "P = [dot(D_params[((i-1)%2) + 1, :], [totalQ[i], 1]) for i = 1:nPeriods]\n",
    "\n",
    "Revenue = q .* P'\n",
    "Costs = q .* df[:, 4]\n",
    "RawProfits = Revenue - Costs\n",
    "InterestMultiplier = [(1.05)^(11-i) for i = 1:10]\n",
    "InterestAdjustedProfits = RawProfits .* InterestMultiplier'\n",
    "PeriodProfits = [sum(InterestAdjustedProfits[i, :]) for i = 1:nFirms]\n",
    "LeftoverQuantities = df[:, 2] - [sum(q[i, :]) for i = 1:nFirms]\n",
    "BackstopProfits = LeftoverQuantities.*(70 - df[:, 4])\n",
    "Profits = PeriodProfits + BackstopProfits\n",
    "\n",
    "TotalOPECProfit = sum(Profits)\n",
    "\n",
    "@variable(m, 0 <= badround <= 1)\n",
    "@variable(m, 0 <= base[1:2] <= 1)\n",
    "@variable(m, decr)\n",
    "\n",
    "@constraint(m, q[:, 3] .== badround * df[:, 3])\n",
    "@constraint(m, P[3] == 104)\n",
    "\n",
    "for j = 4:nPeriods\n",
    "    @constraint(m, q[:, j] .== (base[(j%2) + 1] - decr*(j-4))*df[:, 3])\n",
    "end\n",
    "\n",
    "for i = 1:nFirms\n",
    "    for j = 1:2\n",
    "        @constraint(m, q[i, j] == df2[i, 1+j])\n",
    "    end\n",
    "end\n",
    "\n",
    "@objective(m, Max, sum(Profits))\n",
    "\n",
    "solve(m)"
   ]
  },
  {
   "cell_type": "code",
   "execution_count": 4,
   "metadata": {},
   "outputs": [
    {
     "data": {
      "text/plain": [
       "3.6056239782891706e7"
      ]
     },
     "execution_count": 4,
     "metadata": {},
     "output_type": "execute_result"
    }
   ],
   "source": [
    "getobjectivevalue(m)"
   ]
  },
  {
   "cell_type": "code",
   "execution_count": 5,
   "metadata": {},
   "outputs": [
    {
     "data": {
      "text/html": [
       "<table class=\"data-frame\"><thead><tr><th></th><th>x1</th><th>x2</th><th>x3</th><th>x4</th><th>x5</th><th>x6</th><th>x7</th><th>x8</th><th>x9</th><th>x10</th><th>country</th></tr></thead><tbody><tr><th>1</th><td>8300.0</td><td>12000.0</td><td>8506.848341751102</td><td>7757.849091398888</td><td>6453.042239778744</td><td>7535.73572183841</td><td>6230.928870218267</td><td>7313.622352277933</td><td>6008.81550065779</td><td>7091.508982717456</td><td>Saudi Arabia</td></tr><tr><th>2</th><td>4600.0</td><td>4600.0</td><td>3260.958531004589</td><td>2973.8421517029074</td><td>2473.666191915185</td><td>2888.698693371391</td><td>2388.522733583669</td><td>2803.555235039875</td><td>2303.3792752521526</td><td>2718.411776708358</td><td>Iran</td></tr><tr><th>3</th><td>2775.0</td><td>3700.0</td><td>2622.9449053732565</td><td>2392.003469847991</td><td>1989.6880239317798</td><td>2323.5185142335104</td><td>1921.203068317299</td><td>2255.0335586190295</td><td>1852.7181127028184</td><td>2186.548603004549</td><td>Iraq</td></tr><tr><th>4</th><td>3300.0</td><td>3300.0</td><td>2339.383293981553</td><td>2133.4085001346943</td><td>1774.5866159391549</td><td>2072.3273235055626</td><td>1713.5054393100233</td><td>2011.2461468764313</td><td>1652.424262680892</td><td>1950.1649702473</td><td>Kuwait</td></tr><tr><th>5</th><td>3000.0</td><td>2000.0</td><td>2126.7120854377754</td><td>1939.462272849722</td><td>1613.260559944686</td><td>1883.9339304596026</td><td>1557.7322175545667</td><td>1828.4055880694832</td><td>1502.2038751644475</td><td>1772.877245679364</td><td>UAE</td></tr><tr><th>6</th><td>4400.0</td><td>4400.0</td><td>3119.1777253087375</td><td>2844.544666846259</td><td>2366.115487918873</td><td>2763.1030980074174</td><td>2284.6739190800313</td><td>2681.6615291685757</td><td>2203.2323502411896</td><td>2600.2199603297336</td><td>Venezuela</td></tr><tr><th>7</th><td>2700.0</td><td>2700.0</td><td>1914.0408768939978</td><td>1745.51604556475</td><td>1451.9345039502175</td><td>1695.5405374136424</td><td>1401.9589957991102</td><td>1645.565029262535</td><td>1351.9834876480027</td><td>1595.5895211114275</td><td>Nigeria</td></tr></tbody></table>"
      ],
      "text/plain": [
       "7×11 DataFrames.DataFrame\n",
       "│ Row │ x1     │ x2      │ x3      │ x4      │ x5      │ x6      │ x7      │\n",
       "├─────┼────────┼─────────┼─────────┼─────────┼─────────┼─────────┼─────────┤\n",
       "│ 1   │ 8300.0 │ 12000.0 │ 8506.85 │ 7757.85 │ 6453.04 │ 7535.74 │ 6230.93 │\n",
       "│ 2   │ 4600.0 │ 4600.0  │ 3260.96 │ 2973.84 │ 2473.67 │ 2888.7  │ 2388.52 │\n",
       "│ 3   │ 2775.0 │ 3700.0  │ 2622.94 │ 2392.0  │ 1989.69 │ 2323.52 │ 1921.2  │\n",
       "│ 4   │ 3300.0 │ 3300.0  │ 2339.38 │ 2133.41 │ 1774.59 │ 2072.33 │ 1713.51 │\n",
       "│ 5   │ 3000.0 │ 2000.0  │ 2126.71 │ 1939.46 │ 1613.26 │ 1883.93 │ 1557.73 │\n",
       "│ 6   │ 4400.0 │ 4400.0  │ 3119.18 │ 2844.54 │ 2366.12 │ 2763.1  │ 2284.67 │\n",
       "│ 7   │ 2700.0 │ 2700.0  │ 1914.04 │ 1745.52 │ 1451.93 │ 1695.54 │ 1401.96 │\n",
       "\n",
       "│ Row │ x8      │ x9      │ x10     │ country        │\n",
       "├─────┼─────────┼─────────┼─────────┼────────────────┤\n",
       "│ 1   │ 7313.62 │ 6008.82 │ 7091.51 │ \"Saudi Arabia\" │\n",
       "│ 2   │ 2803.56 │ 2303.38 │ 2718.41 │ \"Iran\"         │\n",
       "│ 3   │ 2255.03 │ 1852.72 │ 2186.55 │ \"Iraq\"         │\n",
       "│ 4   │ 2011.25 │ 1652.42 │ 1950.16 │ \"Kuwait\"       │\n",
       "│ 5   │ 1828.41 │ 1502.2  │ 1772.88 │ \"UAE\"          │\n",
       "│ 6   │ 2681.66 │ 2203.23 │ 2600.22 │ \"Venezuela\"    │\n",
       "│ 7   │ 1645.57 │ 1351.98 │ 1595.59 │ \"Nigeria\"      │"
      ]
     },
     "execution_count": 5,
     "metadata": {},
     "output_type": "execute_result"
    }
   ],
   "source": [
    "qdf = DataFrame(getvalue(q))\n",
    "qdf[:country] = df[:, 1]\n",
    "qdf"
   ]
  },
  {
   "cell_type": "code",
   "execution_count": 6,
   "metadata": {},
   "outputs": [
    {
     "data": {
      "text/plain": [
       "([0.646487, 0.547008], 0.009254723731686567)"
      ]
     },
     "execution_count": 6,
     "metadata": {},
     "output_type": "execute_result"
    }
   ],
   "source": [
    "getvalue(base), getvalue(decr)"
   ]
  }
 ],
 "metadata": {
  "kernelspec": {
   "display_name": "Julia 0.6.2",
   "language": "julia",
   "name": "julia-0.6"
  },
  "language_info": {
   "file_extension": ".jl",
   "mimetype": "application/julia",
   "name": "julia",
   "version": "0.6.2"
  }
 },
 "nbformat": 4,
 "nbformat_minor": 2
}
